{
 "cells": [
  {
   "cell_type": "code",
   "execution_count": null,
   "id": "513a1076",
   "metadata": {
    "vscode": {
     "languageId": "plaintext"
    }
   },
   "outputs": [],
   "source": [
    "# The project has two pipelines: Upsampled Lidar and RGB Camera Images\n",
    "# Camera model architecture\n",
    "\n",
    "from tensorflow import keras\n",
    "from tensorflow.keras import layers\n",
    "import tensorflow as tf\n",
    "\n",
    "# ===========================================\n",
    "# Required for memory usage in some RTX 2k,3k series\n",
    "\n",
    "physical_devices = tf.config.experimental.list_physical_devices('GPU')\n",
    "assert len(physical_devices) > 0, \"Not enough GPU hardware devices available\"\n",
    "config = tf.config.experimental.set_memory_growth(physical_devices[0], True)\n",
    "\n",
    "## Memory settings\n",
    "from tensorflow.compat.v1.keras.backend import set_session\n",
    "config = tf.compat.v1.ConfigProto()\n",
    "config.gpu_options.allow_growth = True # dynamically grow the memory used on the GPU\n",
    "config.log_device_placement = True # to log device placement (on which device the operation ran)\n",
    "sess = tf.compat.v1.Session(config=config)\n",
    "set_session(sess)# The project has two pipelines: Upsampled Lidar and RGB Camera Images\n",
    "# Camera model architecture\n",
    "\n",
    "from tensorflow import keras\n",
    "from tensorflow.keras import layers\n",
    "import tensorflow as tf\n",
    "\n",
    "# ===========================================\n",
    "# Required for memory usage in some RTX 2k,3k series\n",
    "\n",
    "…        \n",
    "    def call(self, layer_1):\n",
    "        return layer_1*self.w \n",
    "\n",
    "    def get_config(self):\n",
    "        config = super(c_fusion_wt, self).get_config()\n",
    "        return config\n",
    "## ---- end Memory setting ----\n",
    "\n",
    "# Fusion: weighting\n",
    "class c_fusion_wt (layers.Layer):\n",
    "    def __init__(self,**kwargs):\n",
    "        super(c_fusion_wt, self).__init__(**kwargs)\n",
    "    \n",
    "    def build (self, input_shape):\n",
    "        self.w=self.add_weight(shape=(1,), initializer=\"zero\", trainable=True,name='weight') \n",
    "        \n",
    "    def call(self, layer_1):\n",
    "        return layer_1*self.w \n",
    "\n",
    "    def get_config(self):\n",
    "        config = super(c_fusion_wt, self).get_config()\n",
    "        return config"
   ]
  },
  {
   "cell_type": "code",
   "execution_count": null,
   "id": "6bb2da5a",
   "metadata": {
    "vscode": {
     "languageId": "plaintext"
    }
   },
   "outputs": [],
   "source": [
    "﻿"
   ]
  }
 ],
 "metadata": {
  "kernelspec": {
   "display_name": "Python 3 (ipykernel)",
   "language": "python",
   "name": "python3"
  },
  "language_info": {
   "codemirror_mode": {
    "name": "ipython",
    "version": 3
   },
   "file_extension": ".py",
   "mimetype": "text/x-python",
   "name": "python",
   "nbconvert_exporter": "python",
   "pygments_lexer": "ipython3",
   "version": "3.7.16"
  }
 },
 "nbformat": 4,
 "nbformat_minor": 5
}
